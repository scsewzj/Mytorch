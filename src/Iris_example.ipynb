{
 "cells": [
  {
   "cell_type": "code",
   "execution_count": 2,
   "metadata": {},
   "outputs": [],
   "source": [
    "import torch\n",
    "import torch.nn as nn\n",
    "import torch.optim as optim\n",
    "from torch.utils.data import Dataset, DataLoader\n",
    "import numpy as np\n",
    "from sklearn import datasets\n",
    "from sklearn.preprocessing import StandardScaler\n",
    "from sklearn.model_selection import train_test_split\n",
    "from sklearn.preprocessing import OneHotEncoder\n"
   ]
  },
  {
   "cell_type": "code",
   "execution_count": 42,
   "metadata": {},
   "outputs": [
    {
     "name": "stderr",
     "output_type": "stream",
     "text": [
      "d:\\Python&Conda_Env\\Python3.9(Global)\\lib\\site-packages\\sklearn\\preprocessing\\_encoders.py:808: FutureWarning: `sparse` was renamed to `sparse_output` in version 1.2 and will be removed in 1.4. `sparse_output` is ignored unless you leave `sparse` to its default value.\n",
      "  warnings.warn(\n"
     ]
    }
   ],
   "source": [
    "\n",
    "iris = datasets.load_iris()\n",
    "X = iris.data  \n",
    "y = iris.target  \n",
    "\n",
    "\n",
    "scaler = StandardScaler()\n",
    "X_scaled = scaler.fit_transform(X)\n",
    "\n",
    "\n",
    "encoder = OneHotEncoder(sparse=False)\n",
    "y_one_hot = encoder.fit_transform(y.reshape(-1, 1))\n",
    "\n",
    "\n",
    "X_train, X_test, y_train, y_test = train_test_split(X_scaled, y_one_hot, test_size=0.2, random_state=42)\n",
    "\n",
    "\n",
    "X_train_tensor = torch.tensor(X_train, dtype=torch.float32)\n",
    "y_train_tensor = torch.tensor(y_train, dtype=torch.float32)\n",
    "X_test_tensor = torch.tensor(X_test, dtype=torch.float32)\n",
    "y_test_tensor = torch.tensor(y_test, dtype=torch.float32)\n"
   ]
  },
  {
   "cell_type": "code",
   "execution_count": 4,
   "metadata": {},
   "outputs": [],
   "source": [
    "class IrisNN(nn.Module):\n",
    "    def __init__(self):\n",
    "        super(IrisNN, self).__init__()\n",
    "\n",
    "        self.fc1 = nn.Linear(4, 10)  \n",
    "        self.fc2 = nn.Linear(10, 3)  \n",
    "\n",
    "    def forward(self, x):\n",
    "        x = torch.relu(self.fc1(x))  \n",
    "        x = self.fc2(x)  \n",
    "        return x\n",
    "\n",
    "\n",
    "model = IrisNN()\n"
   ]
  },
  {
   "cell_type": "code",
   "execution_count": 5,
   "metadata": {},
   "outputs": [],
   "source": [
    "\n",
    "criterion = nn.CrossEntropyLoss() \n",
    "\n",
    "optimizer = optim.SGD(model.parameters(), lr=0.01)\n"
   ]
  },
  {
   "cell_type": "code",
   "execution_count": 6,
   "metadata": {},
   "outputs": [
    {
     "name": "stdout",
     "output_type": "stream",
     "text": [
      "Epoch [100/1000], Loss: 0.8735\n",
      "Epoch [200/1000], Loss: 0.7031\n",
      "Epoch [300/1000], Loss: 0.5897\n",
      "Epoch [400/1000], Loss: 0.5156\n",
      "Epoch [500/1000], Loss: 0.4647\n",
      "Epoch [600/1000], Loss: 0.4264\n",
      "Epoch [700/1000], Loss: 0.3960\n",
      "Epoch [800/1000], Loss: 0.3706\n",
      "Epoch [900/1000], Loss: 0.3491\n",
      "Epoch [1000/1000], Loss: 0.3306\n"
     ]
    }
   ],
   "source": [
    "\n",
    "epochs = 1000\n",
    "\n",
    "for epoch in range(epochs):\n",
    "\n",
    "    model.train()\n",
    "\n",
    "\n",
    "    outputs = model(X_train_tensor)\n",
    "    \n",
    "\n",
    "    loss = criterion(outputs, y_train_tensor)\n",
    "\n",
    "    optimizer.zero_grad()  \n",
    "    loss.backward()  \n",
    "    optimizer.step()  \n",
    "\n",
    "\n",
    "    if (epoch + 1) % 100 == 0:\n",
    "        print(f'Epoch [{epoch + 1}/{epochs}], Loss: {loss.item():.4f}')\n"
   ]
  },
  {
   "cell_type": "code",
   "execution_count": 7,
   "metadata": {},
   "outputs": [
    {
     "name": "stdout",
     "output_type": "stream",
     "text": [
      "Epoch [100/1000], Loss: <class 'Loss.CrossEntropy'>: 0.65035844\n",
      "Epoch [200/1000], Loss: <class 'Loss.CrossEntropy'>: 0.53864586\n",
      "Epoch [300/1000], Loss: <class 'Loss.CrossEntropy'>: 0.47597328\n",
      "Epoch [400/1000], Loss: <class 'Loss.CrossEntropy'>: 0.43271917\n",
      "Epoch [500/1000], Loss: <class 'Loss.CrossEntropy'>: 0.39943933\n",
      "Epoch [600/1000], Loss: <class 'Loss.CrossEntropy'>: 0.37160245\n",
      "Epoch [700/1000], Loss: <class 'Loss.CrossEntropy'>: 0.34708148\n",
      "Epoch [800/1000], Loss: <class 'Loss.CrossEntropy'>: 0.3249782\n",
      "Epoch [900/1000], Loss: <class 'Loss.CrossEntropy'>: 0.30482724\n",
      "Epoch [1000/1000], Loss: <class 'Loss.CrossEntropy'>: 0.28621933\n"
     ]
    }
   ],
   "source": [
    "epochs = 1000\n",
    "lr=0.01\n",
    "\n",
    "\n",
    "\n",
    "import MyTensor as MT\n",
    "import MyNN as MN \n",
    "import MyPara as MP\n",
    "import Loss\n",
    "import MyOpt\n",
    "from tqdm import tqdm\n",
    "\n",
    "X_train_tensor = MT.mytensor(X_train_tensor.detach().numpy())\n",
    "y_train_tensor = MT.mytensor(y_train_tensor.detach().numpy())\n",
    "\n",
    "relu = MN.my_relu()\n",
    "softmax = MN.my_softmax()\n",
    "layer1=MN.my_linear_layer(in_feature=4,out_feature=10)\n",
    "layer2=MN.my_linear_layer(in_feature=10,out_feature=3)\n",
    "L = Loss.CrossEntropy()\n",
    "params = [layer1.parameterw,layer1.parameterb,layer2.parameterw,layer2.parameterb]\n",
    "Opt =  MyOpt.BGD(params)\n",
    "\n",
    "for epoch in range(epochs):\n",
    "\n",
    "    outputs = softmax(layer2(relu(layer1(X_train_tensor))))\n",
    "    \n",
    "\n",
    "    L(outputs, y_train_tensor)\n",
    "    Opt.zero_grad()\n",
    "    L.backward(mode = 'force')\n",
    "    Opt.step(lr)\n",
    "\n",
    "\n",
    "    if (epoch + 1) % 100 == 0:\n",
    "        print(f'Epoch [{epoch + 1}/{epochs}], Loss: {L}')"
   ]
  },
  {
   "cell_type": "code",
   "execution_count": 8,
   "metadata": {},
   "outputs": [],
   "source": [
    "myprediction = softmax(layer2(relu(layer1(X_train_tensor))))"
   ]
  },
  {
   "cell_type": "code",
   "execution_count": 21,
   "metadata": {},
   "outputs": [],
   "source": [
    "prediction_one_hot=[]\n",
    "for i in myprediction.npar_data:\n",
    "    prediction_one_hot.append((i==(max(i))).astype(int))\n",
    "prediction_one_hot = np.array(prediction_one_hot)"
   ]
  },
  {
   "cell_type": "code",
   "execution_count": 27,
   "metadata": {},
   "outputs": [],
   "source": [
    "def one_hot2lable(one_hot):\n",
    "    lable = []\n",
    "    for i in one_hot:\n",
    "        lable.append(list(i).index(max(i)))\n",
    "    return np.array(lable)"
   ]
  },
  {
   "cell_type": "code",
   "execution_count": 41,
   "metadata": {},
   "outputs": [
    {
     "name": "stdout",
     "output_type": "stream",
     "text": [
      "mytorch, epoch 1000, lr=0.01, Optimizer=BGD\n",
      "accuracy: 90.0 %\n"
     ]
    }
   ],
   "source": [
    "acc=(one_hot2lable(prediction_one_hot)==one_hot2lable(y_train_tensor.npar_data)).astype(int).sum()/len(y_train_tensor.npar_data)\n",
    "print(\"mytorch, epoch 1000, lr=0.01, Optimizer=BGD\")\n",
    "print('accuracy:',acc*100,'%')"
   ]
  },
  {
   "cell_type": "code",
   "execution_count": 37,
   "metadata": {},
   "outputs": [],
   "source": [
    "torch_prediction=model(X_train_tensor).detach().numpy()\n",
    "torch_prediction_one_hot=[]\n",
    "for i in torch_prediction:\n",
    "    torch_prediction_one_hot.append((i==(max(i))).astype(int))\n",
    "torch_prediction_one_hot = np.array(torch_prediction_one_hot)"
   ]
  },
  {
   "cell_type": "code",
   "execution_count": 43,
   "metadata": {},
   "outputs": [
    {
     "name": "stdout",
     "output_type": "stream",
     "text": [
      "torch, epoch 1000, lr=0.01, Optimizer=SGD\n",
      "accuracy: 85.83333333333333 %\n"
     ]
    }
   ],
   "source": [
    "acc=(one_hot2lable(torch_prediction_one_hot)==one_hot2lable(y_train_tensor)).astype(int).sum()/len(y_train_tensor)\n",
    "print(\"torch, epoch 1000, lr=0.01, Optimizer=SGD\")\n",
    "print('accuracy:',acc*100,'%')"
   ]
  },
  {
   "cell_type": "code",
   "execution_count": null,
   "metadata": {},
   "outputs": [],
   "source": []
  }
 ],
 "metadata": {
  "kernelspec": {
   "display_name": "Python 3",
   "language": "python",
   "name": "python3"
  },
  "language_info": {
   "codemirror_mode": {
    "name": "ipython",
    "version": 3
   },
   "file_extension": ".py",
   "mimetype": "text/x-python",
   "name": "python",
   "nbconvert_exporter": "python",
   "pygments_lexer": "ipython3",
   "version": "3.9.12"
  }
 },
 "nbformat": 4,
 "nbformat_minor": 2
}
